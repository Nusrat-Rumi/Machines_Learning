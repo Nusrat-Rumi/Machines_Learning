{
 "cells": [
  {
   "cell_type": "markdown",
   "id": "c44f3f11-00e3-4e27-9649-0de81f7bd201",
   "metadata": {},
   "source": [
    "## titanic_without_using_pipelines"
   ]
  },
  {
   "cell_type": "code",
   "execution_count": null,
   "id": "cc06c6f1-4253-4f65-b27a-42266ecad366",
   "metadata": {},
   "outputs": [],
   "source": []
  }
 ],
 "metadata": {
  "kernelspec": {
   "display_name": "Python 3 (ipykernel)",
   "language": "python",
   "name": "python3"
  },
  "language_info": {
   "codemirror_mode": {
    "name": "ipython",
    "version": 3
   },
   "file_extension": ".py",
   "mimetype": "text/x-python",
   "name": "python",
   "nbconvert_exporter": "python",
   "pygments_lexer": "ipython3",
   "version": "3.12.4"
  }
 },
 "nbformat": 4,
 "nbformat_minor": 5
}
