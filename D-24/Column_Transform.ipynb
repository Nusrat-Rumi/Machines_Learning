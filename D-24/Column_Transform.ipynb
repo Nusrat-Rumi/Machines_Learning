{
 "cells": [
  {
   "cell_type": "markdown",
   "id": "7fb7b138-5f77-45b6-9fd2-afb85f289ee3",
   "metadata": {},
   "source": [
    "# D-28"
   ]
  },
  {
   "cell_type": "code",
   "execution_count": 1,
   "id": "ae3fcabc-13e1-4077-a673-4f6688955463",
   "metadata": {},
   "outputs": [],
   "source": [
    "import numpy as np\n",
    "import pandas as pd\n",
    "# ei code gula github thekeo dekhbe.must"
   ]
  },
  {
   "cell_type": "code",
   "execution_count": 3,
   "id": "baaa4965-d787-4367-8e8b-5bcece3b56f4",
   "metadata": {},
   "outputs": [],
   "source": [
    "from sklearn.impute import SimpleImputer\n",
    "from sklearn.preprocessing import OneHotEncoder\n",
    "from sklearn.preprocessing import OrdinalEncoder"
   ]
  },
  {
   "cell_type": "code",
   "execution_count": 4,
   "id": "b434091e-15cb-47f8-9163-bd05c081e0dc",
   "metadata": {},
   "outputs": [],
   "source": [
    "df = pd.read_csv('covid_toy.csv')"
   ]
  },
  {
   "cell_type": "code",
   "execution_count": 37,
   "id": "c2fcc59e-c762-4eb4-9771-95a3dacac56e",
   "metadata": {},
   "outputs": [
    {
     "data": {
      "text/html": [
       "<div>\n",
       "<style scoped>\n",
       "    .dataframe tbody tr th:only-of-type {\n",
       "        vertical-align: middle;\n",
       "    }\n",
       "\n",
       "    .dataframe tbody tr th {\n",
       "        vertical-align: top;\n",
       "    }\n",
       "\n",
       "    .dataframe thead th {\n",
       "        text-align: right;\n",
       "    }\n",
       "</style>\n",
       "<table border=\"1\" class=\"dataframe\">\n",
       "  <thead>\n",
       "    <tr style=\"text-align: right;\">\n",
       "      <th></th>\n",
       "      <th>age</th>\n",
       "      <th>gender</th>\n",
       "      <th>fever</th>\n",
       "      <th>cough</th>\n",
       "      <th>city</th>\n",
       "      <th>has_covid</th>\n",
       "    </tr>\n",
       "  </thead>\n",
       "  <tbody>\n",
       "    <tr>\n",
       "      <th>0</th>\n",
       "      <td>60</td>\n",
       "      <td>Male</td>\n",
       "      <td>103.0</td>\n",
       "      <td>Mild</td>\n",
       "      <td>Kolkata</td>\n",
       "      <td>No</td>\n",
       "    </tr>\n",
       "    <tr>\n",
       "      <th>1</th>\n",
       "      <td>27</td>\n",
       "      <td>Male</td>\n",
       "      <td>100.0</td>\n",
       "      <td>Mild</td>\n",
       "      <td>Delhi</td>\n",
       "      <td>Yes</td>\n",
       "    </tr>\n",
       "    <tr>\n",
       "      <th>2</th>\n",
       "      <td>42</td>\n",
       "      <td>Male</td>\n",
       "      <td>101.0</td>\n",
       "      <td>Mild</td>\n",
       "      <td>Delhi</td>\n",
       "      <td>No</td>\n",
       "    </tr>\n",
       "    <tr>\n",
       "      <th>3</th>\n",
       "      <td>31</td>\n",
       "      <td>Female</td>\n",
       "      <td>98.0</td>\n",
       "      <td>Mild</td>\n",
       "      <td>Kolkata</td>\n",
       "      <td>No</td>\n",
       "    </tr>\n",
       "    <tr>\n",
       "      <th>4</th>\n",
       "      <td>65</td>\n",
       "      <td>Female</td>\n",
       "      <td>101.0</td>\n",
       "      <td>Mild</td>\n",
       "      <td>Mumbai</td>\n",
       "      <td>No</td>\n",
       "    </tr>\n",
       "  </tbody>\n",
       "</table>\n",
       "</div>"
      ],
      "text/plain": [
       "   age  gender  fever cough     city has_covid\n",
       "0   60    Male  103.0  Mild  Kolkata        No\n",
       "1   27    Male  100.0  Mild    Delhi       Yes\n",
       "2   42    Male  101.0  Mild    Delhi        No\n",
       "3   31  Female   98.0  Mild  Kolkata        No\n",
       "4   65  Female  101.0  Mild   Mumbai        No"
      ]
     },
     "execution_count": 37,
     "metadata": {},
     "output_type": "execute_result"
    }
   ],
   "source": [
    "df.head()"
   ]
  },
  {
   "cell_type": "code",
   "execution_count": 9,
   "id": "695fa29e-0560-41d5-a35e-8363b8c2922a",
   "metadata": {},
   "outputs": [
    {
     "data": {
      "text/plain": [
       "cough\n",
       "Mild      62\n",
       "Strong    38\n",
       "Name: count, dtype: int64"
      ]
     },
     "execution_count": 9,
     "metadata": {},
     "output_type": "execute_result"
    }
   ],
   "source": [
    "df['cough'].value_counts()"
   ]
  },
  {
   "cell_type": "code",
   "execution_count": 11,
   "id": "6cfe52dd-0c6e-4d4d-92a7-59b1defed0cc",
   "metadata": {},
   "outputs": [
    {
     "data": {
      "text/plain": [
       "city\n",
       "Kolkata      32\n",
       "Bangalore    30\n",
       "Delhi        22\n",
       "Mumbai       16\n",
       "Name: count, dtype: int64"
      ]
     },
     "execution_count": 11,
     "metadata": {},
     "output_type": "execute_result"
    }
   ],
   "source": [
    "\n",
    "df['city'].value_counts()"
   ]
  },
  {
   "cell_type": "code",
   "execution_count": 13,
   "id": "46df0a30-25a0-48ad-81d0-2addf25f55b1",
   "metadata": {},
   "outputs": [
    {
     "data": {
      "text/plain": [
       "age           0\n",
       "gender        0\n",
       "fever        10\n",
       "cough         0\n",
       "city          0\n",
       "has_covid     0\n",
       "dtype: int64"
      ]
     },
     "execution_count": 13,
     "metadata": {},
     "output_type": "execute_result"
    }
   ],
   "source": [
    "df.isnull().sum()"
   ]
  },
  {
   "cell_type": "code",
   "execution_count": 15,
   "id": "e7a88f64-ede7-4b5f-bc4b-c321a4311c18",
   "metadata": {},
   "outputs": [],
   "source": [
    "from sklearn.model_selection import train_test_split\n",
    "X_train,X_test,y_train,y_test = train_test_split(df.drop(columns=['has_covid']),df['has_covid'],\n",
    "                                                test_size=0.2)\n",
    "\n"
   ]
  },
  {
   "cell_type": "code",
   "execution_count": 17,
   "id": "bef822a2-a9de-4f3b-b4cc-bd81a9864374",
   "metadata": {},
   "outputs": [
    {
     "data": {
      "text/html": [
       "<div>\n",
       "<style scoped>\n",
       "    .dataframe tbody tr th:only-of-type {\n",
       "        vertical-align: middle;\n",
       "    }\n",
       "\n",
       "    .dataframe tbody tr th {\n",
       "        vertical-align: top;\n",
       "    }\n",
       "\n",
       "    .dataframe thead th {\n",
       "        text-align: right;\n",
       "    }\n",
       "</style>\n",
       "<table border=\"1\" class=\"dataframe\">\n",
       "  <thead>\n",
       "    <tr style=\"text-align: right;\">\n",
       "      <th></th>\n",
       "      <th>age</th>\n",
       "      <th>gender</th>\n",
       "      <th>fever</th>\n",
       "      <th>cough</th>\n",
       "      <th>city</th>\n",
       "    </tr>\n",
       "  </thead>\n",
       "  <tbody>\n",
       "    <tr>\n",
       "      <th>32</th>\n",
       "      <td>34</td>\n",
       "      <td>Female</td>\n",
       "      <td>101.0</td>\n",
       "      <td>Strong</td>\n",
       "      <td>Delhi</td>\n",
       "    </tr>\n",
       "    <tr>\n",
       "      <th>6</th>\n",
       "      <td>14</td>\n",
       "      <td>Male</td>\n",
       "      <td>101.0</td>\n",
       "      <td>Strong</td>\n",
       "      <td>Bangalore</td>\n",
       "    </tr>\n",
       "    <tr>\n",
       "      <th>75</th>\n",
       "      <td>5</td>\n",
       "      <td>Male</td>\n",
       "      <td>102.0</td>\n",
       "      <td>Mild</td>\n",
       "      <td>Kolkata</td>\n",
       "    </tr>\n",
       "    <tr>\n",
       "      <th>69</th>\n",
       "      <td>73</td>\n",
       "      <td>Female</td>\n",
       "      <td>103.0</td>\n",
       "      <td>Mild</td>\n",
       "      <td>Delhi</td>\n",
       "    </tr>\n",
       "    <tr>\n",
       "      <th>71</th>\n",
       "      <td>75</td>\n",
       "      <td>Female</td>\n",
       "      <td>104.0</td>\n",
       "      <td>Strong</td>\n",
       "      <td>Delhi</td>\n",
       "    </tr>\n",
       "    <tr>\n",
       "      <th>...</th>\n",
       "      <td>...</td>\n",
       "      <td>...</td>\n",
       "      <td>...</td>\n",
       "      <td>...</td>\n",
       "      <td>...</td>\n",
       "    </tr>\n",
       "    <tr>\n",
       "      <th>46</th>\n",
       "      <td>19</td>\n",
       "      <td>Female</td>\n",
       "      <td>101.0</td>\n",
       "      <td>Mild</td>\n",
       "      <td>Mumbai</td>\n",
       "    </tr>\n",
       "    <tr>\n",
       "      <th>62</th>\n",
       "      <td>56</td>\n",
       "      <td>Female</td>\n",
       "      <td>104.0</td>\n",
       "      <td>Strong</td>\n",
       "      <td>Bangalore</td>\n",
       "    </tr>\n",
       "    <tr>\n",
       "      <th>58</th>\n",
       "      <td>23</td>\n",
       "      <td>Male</td>\n",
       "      <td>98.0</td>\n",
       "      <td>Strong</td>\n",
       "      <td>Mumbai</td>\n",
       "    </tr>\n",
       "    <tr>\n",
       "      <th>44</th>\n",
       "      <td>20</td>\n",
       "      <td>Male</td>\n",
       "      <td>102.0</td>\n",
       "      <td>Strong</td>\n",
       "      <td>Delhi</td>\n",
       "    </tr>\n",
       "    <tr>\n",
       "      <th>40</th>\n",
       "      <td>49</td>\n",
       "      <td>Female</td>\n",
       "      <td>102.0</td>\n",
       "      <td>Mild</td>\n",
       "      <td>Delhi</td>\n",
       "    </tr>\n",
       "  </tbody>\n",
       "</table>\n",
       "<p>80 rows × 5 columns</p>\n",
       "</div>"
      ],
      "text/plain": [
       "    age  gender  fever   cough       city\n",
       "32   34  Female  101.0  Strong      Delhi\n",
       "6    14    Male  101.0  Strong  Bangalore\n",
       "75    5    Male  102.0    Mild    Kolkata\n",
       "69   73  Female  103.0    Mild      Delhi\n",
       "71   75  Female  104.0  Strong      Delhi\n",
       "..  ...     ...    ...     ...        ...\n",
       "46   19  Female  101.0    Mild     Mumbai\n",
       "62   56  Female  104.0  Strong  Bangalore\n",
       "58   23    Male   98.0  Strong     Mumbai\n",
       "44   20    Male  102.0  Strong      Delhi\n",
       "40   49  Female  102.0    Mild      Delhi\n",
       "\n",
       "[80 rows x 5 columns]"
      ]
     },
     "execution_count": 17,
     "metadata": {},
     "output_type": "execute_result"
    }
   ],
   "source": [
    "X_train\n"
   ]
  },
  {
   "cell_type": "markdown",
   "id": "a513503e-d4ef-4cc6-9d90-349aebbe6a81",
   "metadata": {},
   "source": [
    "# 1. Aam Zindagi"
   ]
  },
  {
   "cell_type": "code",
   "execution_count": 21,
   "id": "6274e1ce-09a5-49a0-9942-0cade2a8e45e",
   "metadata": {},
   "outputs": [
    {
     "data": {
      "text/plain": [
       "(80, 1)"
      ]
     },
     "execution_count": 21,
     "metadata": {},
     "output_type": "execute_result"
    }
   ],
   "source": [
    "# adding simple imputer to fever column\n",
    "si=SimpleImputer()\n",
    "X_train_fever=si.fit_transform(X_train[['fever']])\n",
    "\n",
    "# also test data\n",
    "X_test_fever=si.fit_transform(X_test[['fever']])\n",
    "\n",
    "X_train_fever.shape"
   ]
  },
  {
   "cell_type": "code",
   "execution_count": 23,
   "id": "8bad1a61-cead-448c-99db-11869dea565b",
   "metadata": {},
   "outputs": [
    {
     "data": {
      "text/plain": [
       "(80,)"
      ]
     },
     "execution_count": 23,
     "metadata": {},
     "output_type": "execute_result"
    }
   ],
   "source": [
    "# OrdinalEncoding->cough\n",
    "oe=OrdinalEncoder(categories=[['Mild','Strong']])\n",
    "X_train_cough=oe.fit_transform(X_train[['cough']])\n",
    "\n",
    "#also the test data\n",
    "X_test_cough=oe.fit_transform(X_test[['cough']])\n",
    "\n",
    "X_train.cough.shape"
   ]
  },
  {
   "cell_type": "code",
   "execution_count": 25,
   "id": "a45eeafd-517b-4544-b003-4b025b1221a1",
   "metadata": {},
   "outputs": [
    {
     "data": {
      "text/plain": [
       "array([[1.],\n",
       "       [1.],\n",
       "       [0.],\n",
       "       [0.],\n",
       "       [1.],\n",
       "       [0.],\n",
       "       [0.],\n",
       "       [0.],\n",
       "       [0.],\n",
       "       [0.],\n",
       "       [1.],\n",
       "       [0.],\n",
       "       [0.],\n",
       "       [1.],\n",
       "       [1.],\n",
       "       [0.],\n",
       "       [1.],\n",
       "       [1.],\n",
       "       [0.],\n",
       "       [1.],\n",
       "       [0.],\n",
       "       [0.],\n",
       "       [1.],\n",
       "       [0.],\n",
       "       [0.],\n",
       "       [0.],\n",
       "       [0.],\n",
       "       [1.],\n",
       "       [0.],\n",
       "       [1.],\n",
       "       [0.],\n",
       "       [0.],\n",
       "       [0.],\n",
       "       [0.],\n",
       "       [1.],\n",
       "       [0.],\n",
       "       [0.],\n",
       "       [0.],\n",
       "       [0.],\n",
       "       [1.],\n",
       "       [0.],\n",
       "       [0.],\n",
       "       [1.],\n",
       "       [0.],\n",
       "       [0.],\n",
       "       [1.],\n",
       "       [1.],\n",
       "       [0.],\n",
       "       [1.],\n",
       "       [1.],\n",
       "       [0.],\n",
       "       [0.],\n",
       "       [1.],\n",
       "       [1.],\n",
       "       [1.],\n",
       "       [0.],\n",
       "       [1.],\n",
       "       [0.],\n",
       "       [0.],\n",
       "       [0.],\n",
       "       [1.],\n",
       "       [0.],\n",
       "       [0.],\n",
       "       [0.],\n",
       "       [0.],\n",
       "       [0.],\n",
       "       [1.],\n",
       "       [0.],\n",
       "       [0.],\n",
       "       [0.],\n",
       "       [1.],\n",
       "       [0.],\n",
       "       [0.],\n",
       "       [0.],\n",
       "       [1.],\n",
       "       [0.],\n",
       "       [1.],\n",
       "       [1.],\n",
       "       [1.],\n",
       "       [0.]])"
      ]
     },
     "execution_count": 25,
     "metadata": {},
     "output_type": "execute_result"
    }
   ],
   "source": [
    "X_train_cough"
   ]
  },
  {
   "cell_type": "code",
   "execution_count": 43,
   "id": "823177dd-c92b-4b63-ac62-f1cc47447233",
   "metadata": {},
   "outputs": [
    {
     "data": {
      "text/plain": [
       "(80, 4)"
      ]
     },
     "execution_count": 43,
     "metadata": {},
     "output_type": "execute_result"
    }
   ],
   "source": [
    "#OneHotEncoding ->gender,city\n",
    "ohe=OneHotEncoder(drop='first')\n",
    "X_train_gender_city=ohe.fit_transform(X_train[['gender','city']]).toarray()\n",
    "\n",
    "#also the test data\n",
    "X_test_gender_city=ohe.fit_transform(X_test[['gender','city']]).toarray()\n",
    "\n",
    "X_train_gender_city.shape\n"
   ]
  },
  {
   "cell_type": "code",
   "execution_count": 45,
   "id": "f59c5108-be1e-48e9-b626-fd83e9362be9",
   "metadata": {},
   "outputs": [
    {
     "data": {
      "text/plain": [
       "array([[0., 1., 0., 0.],\n",
       "       [1., 0., 0., 0.],\n",
       "       [1., 0., 1., 0.],\n",
       "       [0., 1., 0., 0.],\n",
       "       [0., 1., 0., 0.],\n",
       "       [1., 0., 0., 0.],\n",
       "       [0., 0., 1., 0.],\n",
       "       [0., 0., 1., 0.],\n",
       "       [0., 0., 0., 1.],\n",
       "       [0., 0., 0., 0.],\n",
       "       [0., 0., 1., 0.],\n",
       "       [0., 0., 1., 0.],\n",
       "       [1., 1., 0., 0.],\n",
       "       [0., 0., 1., 0.],\n",
       "       [1., 0., 1., 0.],\n",
       "       [1., 0., 1., 0.],\n",
       "       [0., 0., 1., 0.],\n",
       "       [0., 1., 0., 0.],\n",
       "       [0., 0., 0., 0.],\n",
       "       [0., 0., 1., 0.],\n",
       "       [1., 0., 1., 0.],\n",
       "       [1., 0., 0., 1.],\n",
       "       [0., 0., 0., 0.],\n",
       "       [0., 0., 0., 0.],\n",
       "       [1., 0., 0., 1.],\n",
       "       [1., 0., 0., 0.],\n",
       "       [0., 0., 0., 0.],\n",
       "       [0., 1., 0., 0.],\n",
       "       [0., 0., 1., 0.],\n",
       "       [0., 1., 0., 0.],\n",
       "       [1., 1., 0., 0.],\n",
       "       [1., 0., 0., 0.],\n",
       "       [0., 0., 0., 1.],\n",
       "       [0., 0., 1., 0.],\n",
       "       [1., 0., 1., 0.],\n",
       "       [0., 0., 0., 1.],\n",
       "       [0., 0., 1., 0.],\n",
       "       [0., 0., 1., 0.],\n",
       "       [0., 1., 0., 0.],\n",
       "       [1., 0., 0., 0.],\n",
       "       [1., 0., 0., 1.],\n",
       "       [0., 0., 1., 0.],\n",
       "       [0., 0., 0., 0.],\n",
       "       [0., 1., 0., 0.],\n",
       "       [0., 0., 1., 0.],\n",
       "       [1., 0., 1., 0.],\n",
       "       [0., 0., 1., 0.],\n",
       "       [1., 0., 0., 0.],\n",
       "       [0., 0., 0., 0.],\n",
       "       [0., 0., 0., 1.],\n",
       "       [0., 0., 0., 0.],\n",
       "       [0., 0., 0., 0.],\n",
       "       [1., 0., 0., 0.],\n",
       "       [0., 0., 0., 0.],\n",
       "       [0., 0., 0., 0.],\n",
       "       [1., 0., 1., 0.],\n",
       "       [0., 0., 0., 1.],\n",
       "       [1., 0., 1., 0.],\n",
       "       [0., 0., 0., 0.],\n",
       "       [1., 0., 0., 0.],\n",
       "       [1., 0., 1., 0.],\n",
       "       [1., 1., 0., 0.],\n",
       "       [0., 0., 1., 0.],\n",
       "       [1., 0., 0., 0.],\n",
       "       [1., 0., 1., 0.],\n",
       "       [1., 1., 0., 0.],\n",
       "       [0., 0., 0., 1.],\n",
       "       [0., 1., 0., 0.],\n",
       "       [0., 1., 0., 0.],\n",
       "       [0., 0., 0., 0.],\n",
       "       [0., 0., 0., 1.],\n",
       "       [1., 1., 0., 0.],\n",
       "       [0., 0., 0., 1.],\n",
       "       [0., 0., 0., 0.],\n",
       "       [0., 0., 1., 0.],\n",
       "       [0., 0., 0., 1.],\n",
       "       [0., 0., 0., 0.],\n",
       "       [1., 0., 0., 1.],\n",
       "       [1., 1., 0., 0.],\n",
       "       [0., 1., 0., 0.]])"
      ]
     },
     "execution_count": 45,
     "metadata": {},
     "output_type": "execute_result"
    }
   ],
   "source": [
    "X_train_gender_city # toarray() use korle array akare ashbe.ja etay lagbe na\n"
   ]
  },
  {
   "cell_type": "code",
   "execution_count": 41,
   "id": "0d9d20bc-f45c-486b-ad9f-a3b1b317b3bd",
   "metadata": {},
   "outputs": [
    {
     "data": {
      "text/plain": [
       "(80, 1)"
      ]
     },
     "execution_count": 41,
     "metadata": {},
     "output_type": "execute_result"
    }
   ],
   "source": [
    "# Extracting age\n",
    "X_train_age=X_train.drop(columns=['gender','fever','cough','city']).values\n",
    "\n",
    "#also the test data\n",
    "X_test_age=X_test.drop(columns=['gender','fever','cough','city']).values\n",
    "X_train_age.shape\n"
   ]
  },
  {
   "cell_type": "code",
   "execution_count": 47,
   "id": "e6109214-a2e6-42a1-afc0-29c61ebec513",
   "metadata": {},
   "outputs": [
    {
     "data": {
      "text/plain": [
       "(80, 7)"
      ]
     },
     "execution_count": 47,
     "metadata": {},
     "output_type": "execute_result"
    }
   ],
   "source": [
    "X_train_transformed = np.concatenate((X_train_age,X_train_fever,X_train_gender_city,X_train_cough),axis=1)\n",
    "# also the test data\n",
    "X_test_transformed = np.concatenate((X_test_age,X_test_fever,X_test_gender_city,X_test_cough),axis=1)\n",
    "\n",
    "X_train_transformed.shape\n"
   ]
  },
  {
   "cell_type": "markdown",
   "id": "b9cfa691-1b23-4f50-a322-c8a60027fb7c",
   "metadata": {},
   "source": [
    "# Mentos Zindagi"
   ]
  },
  {
   "cell_type": "code",
   "execution_count": 51,
   "id": "ccb4b4ef-3731-460a-aa20-773fc0d0f26f",
   "metadata": {},
   "outputs": [],
   "source": [
    "from sklearn.compose import ColumnTransformer"
   ]
  },
  {
   "cell_type": "code",
   "execution_count": 61,
   "id": "f4e853e4-1d72-44dc-885d-a2065a202acd",
   "metadata": {},
   "outputs": [],
   "source": [
    "transformer=ColumnTransformer(transformers=[\n",
    "    ('tnf1',SimpleImputer(),['fever']),\n",
    "    ('tnf2',OrdinalEncoder(categories=[['Mild','Strong']]),['cough']),\n",
    "    ('tnf3',OneHotEncoder(sparse_output=False,drop='first'),['gender','city'])\n",
    "],remainder='passthrough')"
   ]
  },
  {
   "cell_type": "code",
   "execution_count": 63,
   "id": "31e234d6-a402-4dd0-80e6-486cdcc28a0b",
   "metadata": {},
   "outputs": [
    {
     "data": {
      "text/plain": [
       "(80, 7)"
      ]
     },
     "execution_count": 63,
     "metadata": {},
     "output_type": "execute_result"
    }
   ],
   "source": [
    "transformer.fit_transform(X_train).shape\n"
   ]
  },
  {
   "cell_type": "code",
   "execution_count": 65,
   "id": "986eb2cd-109f-4cb9-ad48-c4668ffa6afb",
   "metadata": {},
   "outputs": [
    {
     "data": {
      "text/plain": [
       "array([[101.        ,   1.        ,   0.        ,   1.        ,\n",
       "          0.        ,   0.        ,  34.        ],\n",
       "       [101.        ,   1.        ,   1.        ,   0.        ,\n",
       "          0.        ,   0.        ,  14.        ],\n",
       "       [102.        ,   0.        ,   1.        ,   0.        ,\n",
       "          1.        ,   0.        ,   5.        ],\n",
       "       [103.        ,   0.        ,   0.        ,   1.        ,\n",
       "          0.        ,   0.        ,  73.        ],\n",
       "       [104.        ,   1.        ,   0.        ,   1.        ,\n",
       "          0.        ,   0.        ,  75.        ],\n",
       "       [100.        ,   0.        ,   1.        ,   0.        ,\n",
       "          0.        ,   0.        ,  11.        ],\n",
       "       [101.        ,   0.        ,   0.        ,   0.        ,\n",
       "          1.        ,   0.        ,  83.        ],\n",
       "       [ 98.        ,   0.        ,   0.        ,   0.        ,\n",
       "          1.        ,   0.        ,  26.        ],\n",
       "       [ 99.        ,   0.        ,   0.        ,   0.        ,\n",
       "          0.        ,   1.        ,  14.        ],\n",
       "       [ 98.        ,   0.        ,   0.        ,   0.        ,\n",
       "          0.        ,   0.        ,  64.        ],\n",
       "       [100.        ,   1.        ,   0.        ,   0.        ,\n",
       "          1.        ,   0.        ,  13.        ],\n",
       "       [104.        ,   0.        ,   0.        ,   0.        ,\n",
       "          1.        ,   0.        ,   6.        ],\n",
       "       [100.        ,   0.        ,   1.        ,   1.        ,\n",
       "          0.        ,   0.        ,  27.        ],\n",
       "       [104.        ,   1.        ,   0.        ,   0.        ,\n",
       "          1.        ,   0.        ,  54.        ],\n",
       "       [ 98.        ,   1.        ,   1.        ,   0.        ,\n",
       "          1.        ,   0.        ,  34.        ],\n",
       "       [104.        ,   0.        ,   1.        ,   0.        ,\n",
       "          1.        ,   0.        ,  16.        ],\n",
       "       [101.        ,   1.        ,   0.        ,   0.        ,\n",
       "          1.        ,   0.        ,  51.        ],\n",
       "       [101.        ,   1.        ,   0.        ,   1.        ,\n",
       "          0.        ,   0.        ,  68.        ],\n",
       "       [103.        ,   0.        ,   0.        ,   0.        ,\n",
       "          0.        ,   0.        ,  16.        ],\n",
       "       [100.        ,   1.        ,   0.        ,   0.        ,\n",
       "          1.        ,   0.        ,  11.        ],\n",
       "       [103.        ,   0.        ,   1.        ,   0.        ,\n",
       "          1.        ,   0.        ,  60.        ],\n",
       "       [104.        ,   0.        ,   1.        ,   0.        ,\n",
       "          0.        ,   1.        ,  44.        ],\n",
       "       [ 99.        ,   1.        ,   0.        ,   0.        ,\n",
       "          0.        ,   0.        ,  49.        ],\n",
       "       [101.        ,   0.        ,   0.        ,   0.        ,\n",
       "          0.        ,   0.        ,  20.        ],\n",
       "       [102.        ,   0.        ,   1.        ,   0.        ,\n",
       "          0.        ,   1.        ,  74.        ],\n",
       "       [ 99.        ,   0.        ,   1.        ,   0.        ,\n",
       "          0.        ,   0.        ,  65.        ],\n",
       "       [101.        ,   0.        ,   0.        ,   0.        ,\n",
       "          0.        ,   0.        ,  38.        ],\n",
       "       [102.        ,   1.        ,   0.        ,   1.        ,\n",
       "          0.        ,   0.        ,  33.        ],\n",
       "       [100.        ,   0.        ,   0.        ,   0.        ,\n",
       "          1.        ,   0.        ,   5.        ],\n",
       "       [104.        ,   1.        ,   0.        ,   1.        ,\n",
       "          0.        ,   0.        ,  34.        ],\n",
       "       [101.        ,   0.        ,   1.        ,   1.        ,\n",
       "          0.        ,   0.        ,  19.        ],\n",
       "       [ 99.        ,   0.        ,   1.        ,   0.        ,\n",
       "          0.        ,   0.        ,  72.        ],\n",
       "       [101.        ,   0.        ,   0.        ,   0.        ,\n",
       "          0.        ,   1.        ,  65.        ],\n",
       "       [100.        ,   0.        ,   0.        ,   0.        ,\n",
       "          1.        ,   0.        ,  19.        ],\n",
       "       [100.98648649,   1.        ,   1.        ,   0.        ,\n",
       "          1.        ,   0.        ,  71.        ],\n",
       "       [ 98.        ,   0.        ,   0.        ,   0.        ,\n",
       "          0.        ,   1.        ,  65.        ],\n",
       "       [104.        ,   0.        ,   0.        ,   0.        ,\n",
       "          1.        ,   0.        ,  17.        ],\n",
       "       [101.        ,   0.        ,   0.        ,   0.        ,\n",
       "          1.        ,   0.        ,   8.        ],\n",
       "       [100.98648649,   0.        ,   0.        ,   1.        ,\n",
       "          0.        ,   0.        ,  75.        ],\n",
       "       [101.        ,   1.        ,   1.        ,   0.        ,\n",
       "          0.        ,   0.        ,  47.        ],\n",
       "       [104.        ,   0.        ,   1.        ,   0.        ,\n",
       "          0.        ,   1.        ,  42.        ],\n",
       "       [103.        ,   0.        ,   0.        ,   0.        ,\n",
       "          1.        ,   0.        ,  69.        ],\n",
       "       [102.        ,   1.        ,   0.        ,   0.        ,\n",
       "          0.        ,   0.        ,  24.        ],\n",
       "       [ 98.        ,   0.        ,   0.        ,   1.        ,\n",
       "          0.        ,   0.        ,  80.        ],\n",
       "       [ 98.        ,   0.        ,   0.        ,   0.        ,\n",
       "          1.        ,   0.        ,  31.        ],\n",
       "       [103.        ,   1.        ,   1.        ,   0.        ,\n",
       "          1.        ,   0.        ,  70.        ],\n",
       "       [ 98.        ,   1.        ,   0.        ,   0.        ,\n",
       "          1.        ,   0.        ,  10.        ],\n",
       "       [100.        ,   0.        ,   1.        ,   0.        ,\n",
       "          0.        ,   0.        ,  10.        ],\n",
       "       [100.        ,   1.        ,   0.        ,   0.        ,\n",
       "          0.        ,   0.        ,  19.        ],\n",
       "       [100.98648649,   1.        ,   0.        ,   0.        ,\n",
       "          0.        ,   1.        ,  20.        ],\n",
       "       [104.        ,   0.        ,   0.        ,   0.        ,\n",
       "          0.        ,   0.        ,  18.        ],\n",
       "       [ 99.        ,   0.        ,   0.        ,   0.        ,\n",
       "          0.        ,   0.        ,  22.        ],\n",
       "       [ 98.        ,   1.        ,   1.        ,   0.        ,\n",
       "          0.        ,   0.        ,  12.        ],\n",
       "       [102.        ,   1.        ,   0.        ,   0.        ,\n",
       "          0.        ,   0.        ,  82.        ],\n",
       "       [100.98648649,   1.        ,   0.        ,   0.        ,\n",
       "          0.        ,   0.        ,  42.        ],\n",
       "       [ 98.        ,   0.        ,   1.        ,   0.        ,\n",
       "          1.        ,   0.        ,  24.        ],\n",
       "       [ 98.        ,   1.        ,   0.        ,   0.        ,\n",
       "          0.        ,   1.        ,   5.        ],\n",
       "       [104.        ,   0.        ,   1.        ,   0.        ,\n",
       "          1.        ,   0.        ,  51.        ],\n",
       "       [100.98648649,   0.        ,   0.        ,   0.        ,\n",
       "          0.        ,   0.        ,  84.        ],\n",
       "       [104.        ,   0.        ,   1.        ,   0.        ,\n",
       "          0.        ,   0.        ,  25.        ],\n",
       "       [100.98648649,   1.        ,   1.        ,   0.        ,\n",
       "          1.        ,   0.        ,  79.        ],\n",
       "       [101.        ,   0.        ,   1.        ,   1.        ,\n",
       "          0.        ,   0.        ,  15.        ],\n",
       "       [103.        ,   0.        ,   0.        ,   0.        ,\n",
       "          1.        ,   0.        ,  48.        ],\n",
       "       [104.        ,   0.        ,   1.        ,   0.        ,\n",
       "          0.        ,   0.        ,  51.        ],\n",
       "       [100.        ,   0.        ,   1.        ,   0.        ,\n",
       "          1.        ,   0.        ,  55.        ],\n",
       "       [101.        ,   0.        ,   1.        ,   1.        ,\n",
       "          0.        ,   0.        ,  42.        ],\n",
       "       [ 98.        ,   1.        ,   0.        ,   0.        ,\n",
       "          0.        ,   1.        ,  81.        ],\n",
       "       [101.        ,   0.        ,   0.        ,   1.        ,\n",
       "          0.        ,   0.        ,  49.        ],\n",
       "       [101.        ,   0.        ,   0.        ,   1.        ,\n",
       "          0.        ,   0.        ,  64.        ],\n",
       "       [104.        ,   0.        ,   0.        ,   0.        ,\n",
       "          0.        ,   0.        ,  12.        ],\n",
       "       [ 98.        ,   1.        ,   0.        ,   0.        ,\n",
       "          0.        ,   1.        ,  69.        ],\n",
       "       [100.        ,   0.        ,   1.        ,   1.        ,\n",
       "          0.        ,   0.        ,  27.        ],\n",
       "       [ 99.        ,   0.        ,   0.        ,   0.        ,\n",
       "          0.        ,   1.        ,  60.        ],\n",
       "       [102.        ,   0.        ,   0.        ,   0.        ,\n",
       "          0.        ,   0.        ,  69.        ],\n",
       "       [ 99.        ,   1.        ,   0.        ,   0.        ,\n",
       "          1.        ,   0.        ,  25.        ],\n",
       "       [101.        ,   0.        ,   0.        ,   0.        ,\n",
       "          0.        ,   1.        ,  19.        ],\n",
       "       [104.        ,   1.        ,   0.        ,   0.        ,\n",
       "          0.        ,   0.        ,  56.        ],\n",
       "       [ 98.        ,   1.        ,   1.        ,   0.        ,\n",
       "          0.        ,   1.        ,  23.        ],\n",
       "       [102.        ,   1.        ,   1.        ,   1.        ,\n",
       "          0.        ,   0.        ,  20.        ],\n",
       "       [102.        ,   0.        ,   0.        ,   1.        ,\n",
       "          0.        ,   0.        ,  49.        ]])"
      ]
     },
     "execution_count": 65,
     "metadata": {},
     "output_type": "execute_result"
    }
   ],
   "source": [
    "transformer.fit_transform(X_train)"
   ]
  },
  {
   "cell_type": "code",
   "execution_count": 67,
   "id": "eec3a8fa-d5b7-44f9-af13-08fad5cbbf65",
   "metadata": {},
   "outputs": [
    {
     "data": {
      "text/plain": [
       "(20, 7)"
      ]
     },
     "execution_count": 67,
     "metadata": {},
     "output_type": "execute_result"
    }
   ],
   "source": [
    "transformer.transform(X_test).shape"
   ]
  },
  {
   "cell_type": "code",
   "execution_count": null,
   "id": "021e58ff-4bf2-4c2c-9e00-4d4ad207d672",
   "metadata": {},
   "outputs": [],
   "source": []
  }
 ],
 "metadata": {
  "kernelspec": {
   "display_name": "Python 3 (ipykernel)",
   "language": "python",
   "name": "python3"
  },
  "language_info": {
   "codemirror_mode": {
    "name": "ipython",
    "version": 3
   },
   "file_extension": ".py",
   "mimetype": "text/x-python",
   "name": "python",
   "nbconvert_exporter": "python",
   "pygments_lexer": "ipython3",
   "version": "3.12.4"
  }
 },
 "nbformat": 4,
 "nbformat_minor": 5
}
